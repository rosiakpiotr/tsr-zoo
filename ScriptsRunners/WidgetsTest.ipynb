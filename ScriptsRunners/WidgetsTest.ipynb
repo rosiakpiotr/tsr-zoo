{
 "cells": [
  {
   "cell_type": "code",
   "execution_count": 25,
   "metadata": {},
   "outputs": [
    {
     "data": {
      "application/vnd.jupyter.widget-view+json": {
       "model_id": "2550b734cc9744d1ae6a107688b6ff70",
       "version_major": 2,
       "version_minor": 0
      },
      "text/plain": [
       "interactive(children=(FloatSlider(value=0.0, description='numb', max=9.0, min=-6.0), Output()), _dom_classes=(…"
      ]
     },
     "metadata": {},
     "output_type": "display_data"
    },
    {
     "data": {
      "text/plain": [
       "<function __main__.print_numb(numb)>"
      ]
     },
     "execution_count": 25,
     "metadata": {},
     "output_type": "execute_result"
    }
   ],
   "source": [
    "import ipywidgets as widgets\n",
    "\n",
    "def print_numb(numb):\n",
    "    print(numb)\n",
    "\n",
    "widgets.interact(print_numb,\n",
    "    numb=widgets.FloatSlider(\n",
    "        min=-6,\n",
    "        max=9,\n",
    "        value=0\n",
    "    )\n",
    ")"
   ]
  },
  {
   "cell_type": "code",
   "execution_count": 21,
   "metadata": {},
   "outputs": [
    {
     "data": {
      "application/vnd.jupyter.widget-view+json": {
       "model_id": "35d235a0365841fe84b26b5a870e5620",
       "version_major": 2,
       "version_minor": 0
      },
      "text/plain": [
       "SelectMultiple(description='czary', index=(2,), options=('parasolka', 'kurkuma', 'medalion czarow nie niebiesk…"
      ]
     },
     "metadata": {},
     "output_type": "display_data"
    }
   ],
   "source": [
    "options = widgets.SelectMultiple(\n",
    "options=[\n",
    "    'parasolka',\n",
    "    'kurkuma',\n",
    "    'medalion czarow nie niebieskich'],\n",
    "    value=['medalion czarow nie niebieskich'],\n",
    "    rows=5,\n",
    "    description='czary',\n",
    "    disabled=False\n",
    ")\n",
    "display(options)"
   ]
  },
  {
   "cell_type": "code",
   "execution_count": 23,
   "metadata": {},
   "outputs": [
    {
     "data": {
      "application/vnd.jupyter.widget-view+json": {
       "model_id": "532e9b6cb59c4eca83c2becf9b1aaa9f",
       "version_major": 2,
       "version_minor": 0
      },
      "text/plain": [
       "ColorPicker(value='magenta', description='Pick a color')"
      ]
     },
     "metadata": {},
     "output_type": "display_data"
    }
   ],
   "source": [
    "color_picker = widgets.ColorPicker(\n",
    "    concise=False,\n",
    "    description='Pick a color',\n",
    "    value='magenta',\n",
    "    disabled=False\n",
    ")\n",
    "display(color_picker)"
   ]
  },
  {
   "cell_type": "code",
   "execution_count": 24,
   "metadata": {},
   "outputs": [
    {
     "data": {
      "application/vnd.jupyter.widget-view+json": {
       "model_id": "4116e8ad28024e598caa3b0d1607a00c",
       "version_major": 2,
       "version_minor": 0
      },
      "text/plain": [
       "GridBox(children=(Text(value='ras', layout=Layout(height='auto', width='auto')), Text(value='dwa', layout=Layo…"
      ]
     },
     "metadata": {},
     "output_type": "display_data"
    }
   ],
   "source": [
    "layout = widgets.Layout(width='auto', height='auto')\n",
    "text1 = widgets.Text(value='ras', layout=layout)\n",
    "text2 = widgets.Text(value='dwa', layout=layout)\n",
    "text3 = widgets.Text(value='tszy', layout=layout)\n",
    "text4 = widgets.Text(value='tsztery', layout=layout)\n",
    "text5 = widgets.Text(value='pieńć', layout=layout)\n",
    "text6 = widgets.Text(value='sześ', layout=layout)\n",
    "\n",
    "children_data=[text1, text2, text3, text4, text5, text6]\n",
    "grid = widgets.GridBox(\n",
    "    children=children_data,\n",
    "    layout=widgets.Layout(\n",
    "        width='100%',\n",
    "        grid_template_columns='150px 150px 150px',\n",
    "        grid_template_rows='80px auto 80px 60px',\n",
    "        grid_gap='5px 10px'\n",
    "    )\n",
    ")\n",
    "display(grid)"
   ]
  }
 ],
 "metadata": {
  "interpreter": {
   "hash": "31f2aee4e71d21fbe5cf8b01ff0e069b9275f58929596ceb00d14d90e3e16cd6"
  },
  "kernelspec": {
   "display_name": "Python 3.8.10 64-bit",
   "language": "python",
   "name": "python3"
  },
  "language_info": {
   "codemirror_mode": {
    "name": "ipython",
    "version": 3
   },
   "file_extension": ".py",
   "mimetype": "text/x-python",
   "name": "python",
   "nbconvert_exporter": "python",
   "pygments_lexer": "ipython3",
   "version": "3.8.10"
  },
  "orig_nbformat": 4
 },
 "nbformat": 4,
 "nbformat_minor": 2
}
