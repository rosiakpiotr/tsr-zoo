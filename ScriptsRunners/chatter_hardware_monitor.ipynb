{
 "cells": [
  {
   "cell_type": "code",
   "execution_count": 3,
   "metadata": {},
   "outputs": [
    {
     "name": "stdout",
     "output_type": "stream",
     "text": [
      "[INFO] [1654632834.219029]: sent\n",
      "[INFO] [1654632835.220238]: sent\n",
      "[INFO] [1654632836.220731]: sent\n",
      "[INFO] [1654632837.220321]: sent\n",
      "[INFO] [1654632838.220653]: sent\n",
      "[INFO] [1654632839.220180]: sent\n",
      "[INFO] [1654632840.220280]: sent\n",
      "[INFO] [1654632841.220256]: sent\n",
      "[INFO] [1654632842.220206]: sent\n",
      "[INFO] [1654632843.220238]: sent\n",
      "[INFO] [1654632844.220247]: sent\n",
      "[INFO] [1654632845.220144]: sent\n",
      "[INFO] [1654632846.220240]: sent\n",
      "[INFO] [1654632847.220208]: sent\n",
      "[INFO] [1654632848.220241]: sent\n",
      "[INFO] [1654632849.220234]: sent\n",
      "[INFO] [1654632850.220275]: sent\n",
      "[INFO] [1654632851.220173]: sent\n",
      "[INFO] [1654632852.220175]: sent\n",
      "^C\n"
     ]
    }
   ],
   "source": [
    "! . ../devel/setup.bash\n",
    "! rosrun zoo_bot chatter_hardware_monitor.py"
   ]
  }
 ],
 "metadata": {
  "interpreter": {
   "hash": "31f2aee4e71d21fbe5cf8b01ff0e069b9275f58929596ceb00d14d90e3e16cd6"
  },
  "kernelspec": {
   "display_name": "Python 3.8.10 64-bit",
   "language": "python",
   "name": "python3"
  },
  "language_info": {
   "codemirror_mode": {
    "name": "ipython",
    "version": 3
   },
   "file_extension": ".py",
   "mimetype": "text/x-python",
   "name": "python",
   "nbconvert_exporter": "python",
   "pygments_lexer": "ipython3",
   "version": "3.8.10"
  },
  "orig_nbformat": 4
 },
 "nbformat": 4,
 "nbformat_minor": 2
}
