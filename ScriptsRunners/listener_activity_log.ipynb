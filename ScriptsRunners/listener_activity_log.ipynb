{
 "cells": [
  {
   "cell_type": "code",
   "execution_count": 11,
   "metadata": {},
   "outputs": [
    {
     "name": "stdout",
     "output_type": "stream",
     "text": [
      "[INFO] [1654536084.575674]: now listening\n",
      "[INFO] [1654536164.005325]: /activity_listener_4730_1654536084451\t[1654536164003439664]\t1\tfrom catapult: launch to tygrysy failed, reason: \n",
      "[INFO] [1654536947.792727]: /activity_listener_4730_1654536084451\t[1654536947792268753]\t1\tfrom catapult: launch to tygrysy succeed, \n",
      "[INFO] [1654536964.188157]: /activity_listener_4730_1654536084451\t[1654536964187792062]\t1\tfrom catapult: launch to tygrysy failed, reason: out of range\n",
      "[INFO] [1654537020.737746]: /activity_listener_4730_1654536084451\t[1654537020737170934]\t1\tfrom catapult: launch to tygrysy succeed, \n",
      "[INFO] [1654537026.849310]: /activity_listener_4730_1654536084451\t[1654537026848921537]\t1\tfrom catapult: launch to tygrysy succeed, \n",
      "[INFO] [1654537030.877648]: /activity_listener_4730_1654536084451\t[1654537030877224445]\t1\tfrom catapult: launch to tygrysy succeed, \n",
      "[INFO] [1654537032.757988]: /activity_listener_4730_1654536084451\t[1654537032757515668]\t1\tfrom catapult: launch to tygrysy succeed, \n",
      "[INFO] [1654537131.161228]: /activity_listener_4730_1654536084451\t[1654537131160732746]\t1\tfrom catapult: launch to tygrysy succeed, \n",
      "[INFO] [1654537132.705409]: /activity_listener_4730_1654536084451\t[1654537132704961061]\t1\tfrom catapult: launch to tygrysy succeed, \n",
      "[INFO] [1654537134.312404]: /activity_listener_4730_1654536084451\t[1654537134311998367]\t1\tfrom catapult: launch to tygrysy succeed, \n",
      "[INFO] [1654537135.787671]: /activity_listener_4730_1654536084451\t[1654537135787305116]\t1\tfrom catapult: launch to tygrysy succeed, \n",
      "[INFO] [1654537136.746162]: /activity_listener_4730_1654536084451\t[1654537136745758771]\t1\tfrom catapult: launch to tygrysy succeed, \n",
      "[INFO] [1654537137.765202]: /activity_listener_4730_1654536084451\t[1654537137764535665]\t1\tfrom catapult: launch to tygrysy succeed, \n",
      "[INFO] [1654537152.886513]: /activity_listener_4730_1654536084451\t[1654537152885955095]\t1\tfrom catapult: launch to tygrysy succeed, \n",
      "^C\n"
     ]
    }
   ],
   "source": [
    "! . ../devel/setup.bash\n",
    "! rosrun zoo_bot listener_activity_log.py"
   ]
  }
 ],
 "metadata": {
  "interpreter": {
   "hash": "31f2aee4e71d21fbe5cf8b01ff0e069b9275f58929596ceb00d14d90e3e16cd6"
  },
  "kernelspec": {
   "display_name": "Python 3.8.10 64-bit",
   "language": "python",
   "name": "python3"
  },
  "language_info": {
   "codemirror_mode": {
    "name": "ipython",
    "version": 3
   },
   "file_extension": ".py",
   "mimetype": "text/x-python",
   "name": "python",
   "nbconvert_exporter": "python",
   "pygments_lexer": "ipython3",
   "version": "3.8.10"
  },
  "orig_nbformat": 4
 },
 "nbformat": 4,
 "nbformat_minor": 2
}
