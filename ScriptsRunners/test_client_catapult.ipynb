{
 "cells": [
  {
   "cell_type": "code",
   "execution_count": 42,
   "metadata": {},
   "outputs": [
    {
     "name": "stdout",
     "output_type": "stream",
     "text": [
      "Launch info:\n",
      "\ttryingToLauch: True\n",
      "\tlaunched: False\n",
      "\tinRange: False\n",
      "\tfail: True\n",
      "\tfailMsg: out of range\n",
      "END\n",
      "\n"
     ]
    },
    {
     "name": "stderr",
     "output_type": "stream",
     "text": [
      "Traceback (most recent call last):\n",
      "  File \"/home/mateusz/WorkSpace/tsr-zoo/devel/lib/zoo_bot_tester/control_catapult.py\", line 15, in <module>\n",
      "    exec(compile(fh.read(), python_script, 'exec'), context)\n",
      "  File \"/home/mateusz/WorkSpace/tsr-zoo/src/zoo_bot_tester/scripts/control_catapult.py\", line 28, in <module>\n",
      "    launch =    int(sys.argv[2])\n",
      "ValueError: invalid literal for int() with base 10: '51.75248336791992'\n"
     ]
    },
    {
     "data": {
      "text/plain": [
       "256"
      ]
     },
     "execution_count": 42,
     "metadata": {},
     "output_type": "execute_result"
    }
   ],
   "source": [
    "import os\n",
    "\n",
    "name = \"Kaczki\"\n",
    "lat = 51.75248336791992\n",
    "lon = 19.452754974365234\n",
    "launch = 1\n",
    "\n",
    "\n",
    "os.system(\n",
    "    'rosrun zoo_bot_tester control_catapult.py \\'Kaczki\\' 11 12 1'\n",
    ")\n",
    "\n",
    "\n",
    "\n",
    "\n",
    "#! . ../devel/setup.bash\n",
    "os.system(\n",
    "    'rosrun zoo_bot_tester control_catapult.py \\'%s\\' %s %s %s' % (\n",
    "        str(name),\n",
    "        str(lat),\n",
    "        str(lon),\n",
    "        ('0', '1')[launch]\n",
    "    )\n",
    ")"
   ]
  }
 ],
 "metadata": {
  "interpreter": {
   "hash": "31f2aee4e71d21fbe5cf8b01ff0e069b9275f58929596ceb00d14d90e3e16cd6"
  },
  "kernelspec": {
   "display_name": "Python 3.8.10 64-bit",
   "language": "python",
   "name": "python3"
  },
  "language_info": {
   "codemirror_mode": {
    "name": "ipython",
    "version": 3
   },
   "file_extension": ".py",
   "mimetype": "text/x-python",
   "name": "python",
   "nbconvert_exporter": "python",
   "pygments_lexer": "ipython3",
   "version": "3.8.10"
  },
  "orig_nbformat": 4
 },
 "nbformat": 4,
 "nbformat_minor": 2
}
