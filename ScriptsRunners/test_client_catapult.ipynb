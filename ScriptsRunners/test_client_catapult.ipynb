{
 "cells": [
  {
   "cell_type": "code",
   "execution_count": 205,
   "metadata": {},
   "outputs": [],
   "source": [
    "import ipywidgets as widgets\n",
    "\n",
    "layout = widgets.Layout(width='auto', height='auto')\n",
    "lattitude = widgets.Text(value='51.7524835', layout=layout)\n",
    "longitude = widgets.Text(value='19.4527542', layout=layout)\n",
    "\n",
    "children_data=[lattitude, longitude]\n",
    "grid = widgets.GridBox(\n",
    "    children=children_data,\n",
    "    layout=widgets.Layout(\n",
    "        width='100%',\n",
    "        grid_template_columns='150px 150px 150px',\n",
    "        grid_template_rows='8px auto 8px 6px',\n",
    "        grid_gap='5px 10px'\n",
    "    )\n",
    ")"
   ]
  },
  {
   "cell_type": "code",
   "execution_count": 206,
   "metadata": {},
   "outputs": [],
   "source": [
    "options = widgets.SelectMultiple(\n",
    "options=[\n",
    "    'Penguins',\n",
    "    'Lions',\n",
    "    'Giraffes',\n",
    "    'Rhinos',\n",
    "    'Monkeys',\n",
    "    'Turtles'\n",
    "    ],\n",
    "    value=['Penguins'],\n",
    "    rows=6,\n",
    "    description='pick animal',\n",
    "    disabled=False\n",
    ")"
   ]
  },
  {
   "cell_type": "code",
   "execution_count": 207,
   "metadata": {},
   "outputs": [],
   "source": [
    "_launch = widgets.Checkbox(\n",
    "    value=False,\n",
    "    description='Launch',\n",
    "    disabled=False,\n",
    "    indent=False\n",
    ")"
   ]
  },
  {
   "cell_type": "code",
   "execution_count": 208,
   "metadata": {},
   "outputs": [],
   "source": [
    "wiadomosc=widgets.Text(value='')"
   ]
  },
  {
   "cell_type": "code",
   "execution_count": 209,
   "metadata": {},
   "outputs": [],
   "source": [
    "import os\n",
    "import rospy\n",
    "from zoo_bot.srv import CatapultData\n",
    "from zoo_bot.msg import GeoPosition\n",
    "\n",
    "def send_req(button):\n",
    "    rospy.wait_for_service('catapult')\n",
    "    try:\n",
    "        request = rospy.ServiceProxy('catapult', CatapultData)\n",
    "        response = request(\n",
    "            options.value[0],\n",
    "            GeoPosition(float(lattitude.value), float(longitude.value), 0, 0, 0, 0),\n",
    "            _launch.value\n",
    "        ).launchInfo\n",
    "\n",
    "        wiadomosc.value = response.failMsg if response.fail else \"Sukces!\"\n",
    "\n",
    "        return response.launchInfo\n",
    "    except rospy.ServiceException as e:\n",
    "        print(\"Service call failed: %s\" % e)"
   ]
  },
  {
   "cell_type": "code",
   "execution_count": 210,
   "metadata": {},
   "outputs": [],
   "source": [
    "\n",
    "send_button = widgets.Button(\n",
    "    value=False,\n",
    "    description='Send',\n",
    "    disabled=False,\n",
    "    button_style='',\n",
    "    tooltip='Click to send data to catapult',\n",
    "    icon=''\n",
    ")\n",
    "send_button.on_click(send_req)"
   ]
  },
  {
   "cell_type": "code",
   "execution_count": 211,
   "metadata": {},
   "outputs": [
    {
     "data": {
      "application/vnd.jupyter.widget-view+json": {
       "model_id": "a7ad7576aa7a43d1babd1f9622e1d31d",
       "version_major": 2,
       "version_minor": 0
      },
      "text/plain": [
       "GridBox(children=(Text(value='51.7524835', layout=Layout(height='auto', width='auto')), Text(value='19.4527542…"
      ]
     },
     "metadata": {},
     "output_type": "display_data"
    },
    {
     "data": {
      "application/vnd.jupyter.widget-view+json": {
       "model_id": "a1b9ceecdace4412a884df9f0b98f5b1",
       "version_major": 2,
       "version_minor": 0
      },
      "text/plain": [
       "SelectMultiple(description='pick animal', index=(0,), options=('Penguins', 'Lions', 'Giraffes', 'Rhinos', 'Mon…"
      ]
     },
     "metadata": {},
     "output_type": "display_data"
    },
    {
     "data": {
      "application/vnd.jupyter.widget-view+json": {
       "model_id": "830790d2996a4705a29b559530c503c0",
       "version_major": 2,
       "version_minor": 0
      },
      "text/plain": [
       "Checkbox(value=False, description='Launch', indent=False)"
      ]
     },
     "metadata": {},
     "output_type": "display_data"
    },
    {
     "data": {
      "application/vnd.jupyter.widget-view+json": {
       "model_id": "660ff8955cb1436d9899e7c267058cc4",
       "version_major": 2,
       "version_minor": 0
      },
      "text/plain": [
       "Button(description='Send', style=ButtonStyle(), tooltip='Click to send data to catapult')"
      ]
     },
     "metadata": {},
     "output_type": "display_data"
    },
    {
     "data": {
      "application/vnd.jupyter.widget-view+json": {
       "model_id": "acf40a4c33324cbc8978b850c5ce1aff",
       "version_major": 2,
       "version_minor": 0
      },
      "text/plain": [
       "Text(value='')"
      ]
     },
     "metadata": {},
     "output_type": "display_data"
    }
   ],
   "source": [
    "display(grid)\n",
    "display(options)\n",
    "display(_launch)\n",
    "display(send_button)\n",
    "display(wiadomosc)"
   ]
  }
 ],
 "metadata": {
  "interpreter": {
   "hash": "31f2aee4e71d21fbe5cf8b01ff0e069b9275f58929596ceb00d14d90e3e16cd6"
  },
  "kernelspec": {
   "display_name": "Python 3.8.10 64-bit",
   "language": "python",
   "name": "python3"
  },
  "language_info": {
   "codemirror_mode": {
    "name": "ipython",
    "version": 3
   },
   "file_extension": ".py",
   "mimetype": "text/x-python",
   "name": "python",
   "nbconvert_exporter": "python",
   "pygments_lexer": "ipython3",
   "version": "3.8.10"
  },
  "orig_nbformat": 4
 },
 "nbformat": 4,
 "nbformat_minor": 2
}
